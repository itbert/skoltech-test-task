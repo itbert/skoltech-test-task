{
 "cells": [
  {
   "cell_type": "markdown",
   "id": "11e5dabb",
   "metadata": {},
   "source": [
    "## ROCKET. Сравнение типов генерации ядер на Ham (UCR)\n",
    "Три типа генерации ядер: normal, binary, ternary"
   ]
  },
  {
   "cell_type": "code",
   "execution_count": 33,
   "id": "6df98035",
   "metadata": {},
   "outputs": [],
   "source": [
    "import os, time\n",
    "import numpy as np\n",
    "import pandas as pd\n",
    "import matplotlib.pyplot as plt\n",
    "from sklearn.preprocessing import LabelEncoder\n",
    "from sklearn.linear_model import RidgeClassifierCV\n",
    "from sklearn.metrics import accuracy_score, confusion_matrix, classification_report\n",
    "from sklearn.neighbors import KNeighborsClassifier\n",
    "from sklearn.ensemble import RandomForestClassifier\n",
    "from scipy import stats"
   ]
  },
  {
   "cell_type": "code",
   "execution_count": 48,
   "id": "95488c11",
   "metadata": {},
   "outputs": [],
   "source": [
    "DATA_FOLDER = 'data/Ham'\n",
    "N_KERNELS = 7500\n",
    "N_RUNS = 30\n",
    "BATCH_K = 500       # количество ядер в одном батче при генерации/трансформации\n",
    "BASE_SEED = 1234\n",
    "OUT_DIR = 'results_ham'\n",
    "\n",
    "os.makedirs(OUT_DIR, exist_ok=True)"
   ]
  },
  {
   "cell_type": "code",
   "execution_count": 35,
   "id": "cd5f3ab8",
   "metadata": {},
   "outputs": [],
   "source": [
    "def load_ucr_train_test(folder):\n",
    "    files = os.listdir(folder)\n",
    "    \n",
    "    tr = [f for f in files if f.upper().endswith('_TRAIN.TXT')]\n",
    "    te = [f for f in files if f.upper().endswith('_TEST.TXT')]\n",
    "\n",
    "    if not tr or not te:\n",
    "        raise FileNotFoundError(\"TRAIN/TEST files not found in \" + folder)\n",
    "    \n",
    "    def read_file(path):\n",
    "        df = pd.read_csv(path, header=None, sep=r'[,\\s]+', engine='python')\n",
    "        y = df.iloc[:,0].values\n",
    "        X = df.iloc[:,1:].values.astype(float)\n",
    "        return X, y\n",
    "    \n",
    "    Xtr, ytr = read_file(os.path.join(folder, tr[0]))\n",
    "    Xte, yte = read_file(os.path.join(folder, te[0]))\n",
    "    \n",
    "    Xtr = np.nan_to_num(Xtr); Xte = np.nan_to_num(Xte)\n",
    "    le = LabelEncoder()\n",
    "    \n",
    "    ytr_enc = le.fit_transform(ytr)\n",
    "    yte_enc = le.transform(yte)\n",
    "    \n",
    "    return Xtr, ytr_enc, Xte, yte_enc, le\n",
    "\n",
    "X_train, y_train, X_test, y_test, LABEL_ENCODER = load_ucr_train_test(DATA_FOLDER)"
   ]
  },
  {
   "cell_type": "code",
   "execution_count": 36,
   "id": "402fa776",
   "metadata": {},
   "outputs": [
    {
     "name": "stdout",
     "output_type": "stream",
     "text": [
      "Loaded: (109, 431) (105, 431) classes: [0 1]\n"
     ]
    }
   ],
   "source": [
    "print(\"Loaded:\", X_train.shape, X_test.shape, \"classes:\", np.unique(y_train))"
   ]
  },
  {
   "cell_type": "code",
   "execution_count": 37,
   "id": "782708e8",
   "metadata": {},
   "outputs": [],
   "source": [
    "def generate_kernel_batch(\n",
    "    n_kernels, series_length, \n",
    "    kernel_type='normal', rng=None):\n",
    "    \n",
    "    if rng is None: rng = np.random.RandomState()\n",
    "    kernels = []\n",
    "    lengths = [7,9,11]\n",
    "    \n",
    "    for _ in range(n_kernels):\n",
    "        length = int(rng.choice(lengths))\n",
    "        max_dil = max(1, (series_length - 1) // (length - 1))\n",
    "        if max_dil <= 1:\n",
    "            dilation = 1\n",
    "        else:\n",
    "            max_pow = int(np.floor(np.log2(max_dil)))\n",
    "            pow_choice = rng.randint(0, max_pow+1)\n",
    "            dilation = 2 ** pow_choice\n",
    "        if kernel_type == 'normal':\n",
    "            w = rng.normal(size=length)\n",
    "        elif kernel_type == 'binary':\n",
    "            w = rng.choice([-1.0, 1.0], size=length)\n",
    "        elif kernel_type == 'ternary':\n",
    "            w = rng.choice([-1.0, 0.0, 1.0], size=length)\n",
    "        else:\n",
    "            raise ValueError(kernel_type)\n",
    "        w = w - w.mean()\n",
    "        std = w.std()\n",
    "        \n",
    "        if std > 0:\n",
    "            w = w / std\n",
    "            \n",
    "        bias = float(rng.uniform(-1.0, 1.0))\n",
    "        \n",
    "        kernels.append({'w': w.astype(np.float32), \n",
    "                        'bias': bias, \n",
    "                        'dilation': int(dilation), \n",
    "                        'length': int(length)})\n",
    "        \n",
    "    return kernels\n"
   ]
  },
  {
   "cell_type": "code",
   "execution_count": 38,
   "id": "67ed9725",
   "metadata": {},
   "outputs": [],
   "source": [
    "def transform_with_kernels_batch(X, kernels):\n",
    "    n_samples, L = X.shape\n",
    "    n_k = len(kernels)\n",
    "    Xf = np.zeros((n_samples, n_k * 2), dtype=np.float32)\n",
    "    \n",
    "    for ki, k in enumerate(kernels):\n",
    "        w = k['w']; b = k['bias']; d = k['dilation']; seqlen = k['length']\n",
    "        out_len = L - (seqlen - 1) * d\n",
    "        if out_len <= 0:\n",
    "            Xf[:, 2*ki] = 0.0; Xf[:, 2*ki+1] = 0.0\n",
    "            continue\n",
    "        \n",
    "        offsets = (np.arange(seqlen) * d).astype(np.int64)\n",
    "        starts = np.arange(out_len).astype(np.int64)\n",
    "        \n",
    "        idx = starts[:, None] + offsets[None, :]\n",
    "        windows = X[:, idx] # shape (n_samples, out_len, seqlen)\n",
    "        \n",
    "        conv = np.tensordot(windows, w, axes=([2],[0])) + b  # (n_samples, out_len)\n",
    "        \n",
    "        Xf[:, 2*ki] = conv.max(axis=1)\n",
    "        Xf[:, 2*ki+1] = (conv > 0.0).mean(axis=1)\n",
    "    \n",
    "    return Xf\n"
   ]
  },
  {
   "cell_type": "code",
   "execution_count": 39,
   "id": "76b65cbf",
   "metadata": {},
   "outputs": [],
   "source": [
    "def compute_transform_in_batches(X, series_length, kernel_type, total_kernels, batch_k, base_seed):\n",
    "    rng_global = np.random.RandomState(base_seed)\n",
    "    features = []\n",
    "    produced = 0\n",
    "    \n",
    "    while produced < total_kernels:\n",
    "        cur = min(batch_k, total_kernels - produced)\n",
    "        rng = np.random.RandomState(rng_global.randint(0, 2**31 - 1))\n",
    "        kernels = generate_kernel_batch(cur, series_length, kernel_type=kernel_type, rng=rng)\n",
    "        Xf = transform_with_kernels_batch(X, kernels)\n",
    "        features.append(Xf)\n",
    "        produced += cur\n",
    "        \n",
    "    return np.concatenate(features, axis=1) # shape (n_samples, total_kernels*2)\n"
   ]
  },
  {
   "cell_type": "code",
   "execution_count": 40,
   "id": "6ba9bb79",
   "metadata": {},
   "outputs": [],
   "source": [
    "def run_one(X_train, y_train, X_test, y_test, kernel_type, n_kernels, seed):\n",
    "    t0 = time.time()\n",
    "    \n",
    "    Xtrf = compute_transform_in_batches(X_train, X_train.shape[1], kernel_type, n_kernels, BATCH_K, seed)\n",
    "    Xtef = compute_transform_in_batches(X_test, X_test.shape[1], kernel_type, n_kernels, BATCH_K, seed)\n",
    "    \n",
    "    t1 = time.time()\n",
    "    \n",
    "    clf = RidgeClassifierCV(alphas=np.logspace(-3,1,5))\n",
    "    clf.fit(Xtrf, y_train)\n",
    "    \n",
    "    ypred = clf.predict(Xtef)\n",
    "    acc = accuracy_score(y_test, ypred)\n",
    "    \n",
    "    return (acc, \n",
    "            {'total_time': time.time()-t0, 'transform_time': t1-t0}, \n",
    "            clf, \n",
    "            Xtrf, Xtef, \n",
    "            ypred)\n"
   ]
  },
  {
   "cell_type": "code",
   "execution_count": 41,
   "id": "ad1e9f00",
   "metadata": {},
   "outputs": [],
   "source": [
    "def repeated_runs(X_train, y_train, \n",
    "                  X_test, y_test, \n",
    "                  kernel_type, n_kernels, \n",
    "                  n_runs, base_seed):\n",
    "    accs = []\n",
    "    times = []\n",
    "    clfs = []\n",
    "    last_preds = None\n",
    "    \n",
    "    for i in range(n_runs):\n",
    "        seed = base_seed + i\n",
    "        acc, tdict, clf, Xtrf, Xtef, ypred = run_one(X_train, y_train, \n",
    "                                                     X_test, y_test, \n",
    "                                                     kernel_type, \n",
    "                                                     n_kernels, \n",
    "                                                     seed)\n",
    "        accs.append(acc); times.append(tdict); clfs.append(clf)\n",
    "        last_preds = ypred\n",
    "        print(f\"[{kernel_type}] run {i+1}/{n_runs} seed={seed} acc={acc:.4f}\")\n",
    "        \n",
    "    arr = np.array(accs)\n",
    "    mean = arr.mean()\n",
    "    std = arr.std(ddof=1) if n_runs>1 else 0.0\n",
    "    ci_half = stats.t.ppf(0.975, df=n_runs-1) * std / np.sqrt(n_runs) if n_runs > 1 else 0.0\n",
    "    \n",
    "    return {'accs': arr, 'mean': mean, 'std': std, \n",
    "            'ci_half': ci_half, 'times': times, \n",
    "            'clfs': clfs, 'last_preds': last_preds}\n"
   ]
  },
  {
   "cell_type": "code",
   "execution_count": 45,
   "id": "9ffcf6a5",
   "metadata": {},
   "outputs": [],
   "source": [
    "TEST_NK = 200\n",
    "TEST_NR = 5\n",
    "kernel_types = ['normal', 'binary', 'ternary']\n",
    "summary = {}\n",
    "rows = []"
   ]
  },
  {
   "cell_type": "code",
   "execution_count": 46,
   "id": "c17ddde9",
   "metadata": {},
   "outputs": [
    {
     "name": "stdout",
     "output_type": "stream",
     "text": [
      "normal\n",
      "[normal] run 1/5 seed=1234 acc=0.7143\n",
      "[normal] run 2/5 seed=1235 acc=0.6857\n",
      "[normal] run 3/5 seed=1236 acc=0.7619\n",
      "[normal] run 4/5 seed=1237 acc=0.6476\n",
      "[normal] run 5/5 seed=1238 acc=0.7143\n",
      "binary\n",
      "[binary] run 1/5 seed=1234 acc=0.6571\n",
      "[binary] run 2/5 seed=1235 acc=0.7143\n",
      "[binary] run 3/5 seed=1236 acc=0.6857\n",
      "[binary] run 4/5 seed=1237 acc=0.7714\n",
      "[binary] run 5/5 seed=1238 acc=0.7714\n",
      "ternary\n",
      "[ternary] run 1/5 seed=1234 acc=0.7524\n",
      "[ternary] run 2/5 seed=1235 acc=0.7429\n",
      "[ternary] run 3/5 seed=1236 acc=0.7905\n",
      "[ternary] run 4/5 seed=1237 acc=0.6952\n",
      "[ternary] run 5/5 seed=1238 acc=0.7048\n"
     ]
    }
   ],
   "source": [
    "for kt in kernel_types:\n",
    "    print(kt)\n",
    "    summary[kt] = repeated_runs(X_train, y_train, \n",
    "                                X_test, y_test, \n",
    "                                kt, TEST_NK, \n",
    "                                TEST_NR, BASE_SEED)\n"
   ]
  },
  {
   "cell_type": "code",
   "execution_count": 47,
   "id": "1b769ecc",
   "metadata": {},
   "outputs": [
    {
     "name": "stdout",
     "output_type": "stream",
     "text": [
      "  kernel_type  mean_acc   std_acc   ci_half  n_runs\n",
      "0      normal  0.704762  0.042056  0.052219       5\n",
      "1      binary  0.720000  0.051110  0.063462       5\n",
      "2     ternary  0.737143  0.038451  0.047743       5\n"
     ]
    }
   ],
   "source": [
    "for kt in kernel_types:\n",
    "    r = summary[kt]\n",
    "    rows.append({'kernel_type': kt, \n",
    "                 'mean_acc': r['mean'], \n",
    "                 'std_acc': r['std'], \n",
    "                 'ci_half': r['ci_half'],\n",
    "                 'n_runs': len(r['accs'])})\n",
    "    \n",
    "df_quick = pd.DataFrame(rows)\n",
    "print(df_quick)\n",
    "df_quick.to_csv(os.path.join(OUT_DIR, 'quick_summary.csv'), index=False)"
   ]
  },
  {
   "cell_type": "code",
   "execution_count": 49,
   "id": "11abbcc9",
   "metadata": {},
   "outputs": [
    {
     "name": "stdout",
     "output_type": "stream",
     "text": [
      "normal\n",
      "[normal] run 1/30 seed=1234 acc=0.7238\n",
      "[normal] run 2/30 seed=1235 acc=0.7333\n",
      "[normal] run 3/30 seed=1236 acc=0.7238\n",
      "[normal] run 4/30 seed=1237 acc=0.7333\n",
      "[normal] run 5/30 seed=1238 acc=0.7143\n",
      "[normal] run 6/30 seed=1239 acc=0.7429\n",
      "[normal] run 7/30 seed=1240 acc=0.7619\n",
      "[normal] run 8/30 seed=1241 acc=0.7143\n",
      "[normal] run 9/30 seed=1242 acc=0.7524\n",
      "[normal] run 10/30 seed=1243 acc=0.7333\n",
      "[normal] run 11/30 seed=1244 acc=0.7524\n",
      "[normal] run 12/30 seed=1245 acc=0.7429\n",
      "[normal] run 13/30 seed=1246 acc=0.7333\n",
      "[normal] run 14/30 seed=1247 acc=0.7143\n",
      "[normal] run 15/30 seed=1248 acc=0.7333\n",
      "[normal] run 16/30 seed=1249 acc=0.7238\n",
      "[normal] run 17/30 seed=1250 acc=0.7333\n",
      "[normal] run 18/30 seed=1251 acc=0.7619\n",
      "[normal] run 19/30 seed=1252 acc=0.7238\n",
      "[normal] run 20/30 seed=1253 acc=0.7238\n",
      "[normal] run 21/30 seed=1254 acc=0.7048\n",
      "[normal] run 22/30 seed=1255 acc=0.7333\n",
      "[normal] run 23/30 seed=1256 acc=0.7333\n",
      "[normal] run 24/30 seed=1257 acc=0.7238\n",
      "[normal] run 25/30 seed=1258 acc=0.7333\n",
      "[normal] run 26/30 seed=1259 acc=0.7143\n",
      "[normal] run 27/30 seed=1260 acc=0.7333\n",
      "[normal] run 28/30 seed=1261 acc=0.7429\n",
      "[normal] run 29/30 seed=1262 acc=0.7333\n",
      "[normal] run 30/30 seed=1263 acc=0.7429\n",
      "binary\n",
      "[binary] run 1/30 seed=1234 acc=0.7048\n",
      "[binary] run 2/30 seed=1235 acc=0.7143\n",
      "[binary] run 3/30 seed=1236 acc=0.6952\n",
      "[binary] run 4/30 seed=1237 acc=0.7143\n",
      "[binary] run 5/30 seed=1238 acc=0.6952\n",
      "[binary] run 6/30 seed=1239 acc=0.7143\n",
      "[binary] run 7/30 seed=1240 acc=0.6857\n",
      "[binary] run 8/30 seed=1241 acc=0.6857\n",
      "[binary] run 9/30 seed=1242 acc=0.7143\n",
      "[binary] run 10/30 seed=1243 acc=0.6952\n",
      "[binary] run 11/30 seed=1244 acc=0.6952\n",
      "[binary] run 12/30 seed=1245 acc=0.6952\n",
      "[binary] run 13/30 seed=1246 acc=0.7143\n",
      "[binary] run 14/30 seed=1247 acc=0.7143\n",
      "[binary] run 15/30 seed=1248 acc=0.7238\n",
      "[binary] run 16/30 seed=1249 acc=0.7143\n",
      "[binary] run 17/30 seed=1250 acc=0.7143\n",
      "[binary] run 18/30 seed=1251 acc=0.7143\n",
      "[binary] run 19/30 seed=1252 acc=0.7048\n",
      "[binary] run 20/30 seed=1253 acc=0.6762\n",
      "[binary] run 21/30 seed=1254 acc=0.7143\n",
      "[binary] run 22/30 seed=1255 acc=0.7048\n",
      "[binary] run 23/30 seed=1256 acc=0.7048\n",
      "[binary] run 24/30 seed=1257 acc=0.6857\n",
      "[binary] run 25/30 seed=1258 acc=0.6857\n",
      "[binary] run 26/30 seed=1259 acc=0.7048\n",
      "[binary] run 27/30 seed=1260 acc=0.7143\n",
      "[binary] run 28/30 seed=1261 acc=0.7048\n",
      "[binary] run 29/30 seed=1262 acc=0.7143\n",
      "[binary] run 30/30 seed=1263 acc=0.7048\n",
      "ternary\n",
      "[ternary] run 1/30 seed=1234 acc=0.6952\n",
      "[ternary] run 2/30 seed=1235 acc=0.7143\n",
      "[ternary] run 3/30 seed=1236 acc=0.6857\n",
      "[ternary] run 4/30 seed=1237 acc=0.6857\n",
      "[ternary] run 5/30 seed=1238 acc=0.6762\n",
      "[ternary] run 6/30 seed=1239 acc=0.7048\n",
      "[ternary] run 7/30 seed=1240 acc=0.6762\n",
      "[ternary] run 8/30 seed=1241 acc=0.7048\n",
      "[ternary] run 9/30 seed=1242 acc=0.6762\n",
      "[ternary] run 10/30 seed=1243 acc=0.6857\n",
      "[ternary] run 11/30 seed=1244 acc=0.6667\n",
      "[ternary] run 12/30 seed=1245 acc=0.7048\n",
      "[ternary] run 13/30 seed=1246 acc=0.7048\n",
      "[ternary] run 14/30 seed=1247 acc=0.6952\n",
      "[ternary] run 15/30 seed=1248 acc=0.7143\n",
      "[ternary] run 16/30 seed=1249 acc=0.7143\n",
      "[ternary] run 17/30 seed=1250 acc=0.6762\n",
      "[ternary] run 18/30 seed=1251 acc=0.6952\n",
      "[ternary] run 19/30 seed=1252 acc=0.6762\n",
      "[ternary] run 20/30 seed=1253 acc=0.6857\n",
      "[ternary] run 21/30 seed=1254 acc=0.6952\n",
      "[ternary] run 22/30 seed=1255 acc=0.7048\n",
      "[ternary] run 23/30 seed=1256 acc=0.6952\n",
      "[ternary] run 24/30 seed=1257 acc=0.6952\n",
      "[ternary] run 25/30 seed=1258 acc=0.7048\n",
      "[ternary] run 26/30 seed=1259 acc=0.6952\n",
      "[ternary] run 27/30 seed=1260 acc=0.6952\n",
      "[ternary] run 28/30 seed=1261 acc=0.6857\n",
      "[ternary] run 29/30 seed=1262 acc=0.6952\n",
      "[ternary] run 30/30 seed=1263 acc=0.7048\n"
     ]
    }
   ],
   "source": [
    "kernel_types = ['normal', 'binary', 'ternary']\n",
    "full_summary = {}\n",
    "rows = []\n",
    "for kt in kernel_types:\n",
    "    print(kt)\n",
    "    full_summary[kt] = repeated_runs(X_train, y_train, \n",
    "                                     X_test, y_test, \n",
    "                                     kt, N_KERNELS, \n",
    "                                     N_RUNS, BASE_SEED)"
   ]
  },
  {
   "cell_type": "code",
   "execution_count": 50,
   "id": "b5c308b5",
   "metadata": {},
   "outputs": [
    {
     "name": "stdout",
     "output_type": "stream",
     "text": [
      "  kernel_type  mean_acc   std_acc   ci_half  n_runs\n",
      "0      normal  0.732381  0.013779  0.005145      30\n",
      "1      binary  0.704127  0.011977  0.004472      30\n",
      "2     ternary  0.693651  0.012773  0.004770      30\n"
     ]
    }
   ],
   "source": [
    "for kt in kernel_types:\n",
    "    r = full_summary[kt]\n",
    "    rows.append({'kernel_type': kt, \n",
    "                 'mean_acc': r['mean'],\n",
    "                 'std_acc': r['std'], \n",
    "                 'ci_half': r['ci_half'], \n",
    "                 'n_runs': len(r['accs'])})\n",
    "    \n",
    "df_full = pd.DataFrame(rows)\n",
    "df_full.to_csv(os.path.join(OUT_DIR, 'rocket_summary_full.csv'), index=False)\n",
    "print(df_full)"
   ]
  },
  {
   "cell_type": "code",
   "execution_count": 51,
   "id": "e69bc4dd",
   "metadata": {},
   "outputs": [
    {
     "name": "stdout",
     "output_type": "stream",
     "text": [
      "RandomForest on raw series: 0.7047619047619048\n"
     ]
    }
   ],
   "source": [
    "knn = KNeighborsClassifier(n_neighbors=1, metric='euclidean')\n",
    "knn.fit(X_train, y_train)\n",
    "acc_knn = knn.score(X_test, y_test)\n",
    "\n",
    "rf = RandomForestClassifier(n_estimators=400, random_state=42)\n",
    "rf.fit(X_train, y_train)\n",
    "print(\"RandomForest on raw series:\", rf.score(X_test, y_test))"
   ]
  },
  {
   "cell_type": "code",
   "execution_count": 52,
   "id": "5262e408",
   "metadata": {},
   "outputs": [
    {
     "name": "stdout",
     "output_type": "stream",
     "text": [
      "tslearn not available or DTW failed: No module named 'tslearn'\n"
     ]
    }
   ],
   "source": [
    "try:\n",
    "    from tslearn.neighbors import KNeighborsTimeSeriesClassifier\n",
    "    knn_dtw = KNeighborsTimeSeriesClassifier(n_neighbors=1, metric=\"dtw\")\n",
    "    # tslearn expects shape (n, sz) or (n, sz, d)\n",
    "    knn_dtw.fit(X_train, y_train)\n",
    "    print(\"1-NN (DTW):\", knn_dtw.score(X_test, y_test))\n",
    "except Exception as e:\n",
    "    print(\"tslearn not available or DTW failed:\", e)\n"
   ]
  },
  {
   "cell_type": "code",
   "execution_count": 53,
   "id": "b92e8ffc",
   "metadata": {},
   "outputs": [
    {
     "name": "stdout",
     "output_type": "stream",
     "text": [
      "normal vs binary: paired t p=1.3786e-09, wilcoxon p=3.0743481371581635e-06\n",
      "normal vs ternary: paired t p=2.8938e-11, wilcoxon p=1.595254879875626e-06\n",
      "binary vs ternary: paired t p=5.8633e-04, wilcoxon p=0.0019609576181684554\n"
     ]
    }
   ],
   "source": [
    "from itertools import combinations\n",
    "def paired_tests(a, b, name_a, name_b):\n",
    "    # a, b - arrays of shape (n_runs,)\n",
    "    t_stat, p_t = stats.ttest_rel(a, b)\n",
    "    try:\n",
    "        w_stat, p_w = stats.wilcoxon(a - b)\n",
    "    except Exception as e:\n",
    "        w_stat, p_w = np.nan, np.nan\n",
    "    print(f\"{name_a} vs {name_b}: paired t p={p_t:.4e}, wilcoxon p={p_w if not np.isnan(p_w) else 'NA'}\")\n",
    "\n",
    "# примеры: сравним три типа ядер между собой\n",
    "if 'full_summary' in globals():\n",
    "    for a,b in combinations(kernel_types,2):\n",
    "        paired_tests(full_summary[a]['accs'], full_summary[b]['accs'], a, b)\n",
    "else:\n",
    "    print(\"Run full experiment first (cell 10) to have full_summary.\")\n"
   ]
  },
  {
   "cell_type": "code",
   "execution_count": 54,
   "id": "8dc24dfb",
   "metadata": {},
   "outputs": [
    {
     "name": "stderr",
     "output_type": "stream",
     "text": [
      "/var/folders/qf/xy929rcx1xnc19y51wt8zct00000gn/T/ipykernel_2504/3242207393.py:5: MatplotlibDeprecationWarning: The 'labels' parameter of boxplot() has been renamed 'tick_labels' since Matplotlib 3.9; support for the old name will be dropped in 3.11.\n",
      "  ax.boxplot(data, labels=kernel_types, showmeans=True)\n"
     ]
    },
    {
     "data": {
      "image/png": "[encoded data removed]",
      "text/plain": [
       "<Figure size 800x500 with 1 Axes>"
      ]
     },
     "metadata": {},
     "output_type": "display_data"
    },
    {
     "name": "stdout",
     "output_type": "stream",
     "text": [
      "Confusion matrix (normal, last run):\n",
      " [[39 12]\n",
      " [15 39]]\n",
      "              precision    recall  f1-score   support\n",
      "\n",
      "           0       0.72      0.76      0.74        51\n",
      "           1       0.76      0.72      0.74        54\n",
      "\n",
      "    accuracy                           0.74       105\n",
      "   macro avg       0.74      0.74      0.74       105\n",
      "weighted avg       0.74      0.74      0.74       105\n",
      "\n",
      "Results saved to results_ham\n"
     ]
    }
   ],
   "source": [
    "# boxplot\n",
    "if 'full_summary' in globals():\n",
    "    data = [full_summary[kt]['accs'] for kt in kernel_types]\n",
    "    fig, ax = plt.subplots(figsize=(8,5))\n",
    "    ax.boxplot(data, labels=kernel_types, showmeans=True)\n",
    "    for i, kt in enumerate(kernel_types):\n",
    "        m = full_summary[kt]['mean']; c = full_summary[kt]['ci_half']\n",
    "        ax.text(i+1, m + 0.005, f\"{m:.4f}\\n±{c:.4f}\", ha='center')\n",
    "    ax.set_ylabel('Accuracy'); ax.set_title('Kernel types comparison')\n",
    "    plt.savefig(os.path.join(OUT_DIR, 'kernel_types_boxplot.png'), dpi=150)\n",
    "    plt.show()\n",
    "\n",
    "    # confusion matrix and report for last run of 'normal' (example)\n",
    "    last_preds = full_summary['normal']['last_preds']\n",
    "    cm = confusion_matrix(y_test, last_preds)\n",
    "    print(\"Confusion matrix (normal, last run):\\n\", cm)\n",
    "    print(classification_report(y_test, last_preds, zero_division=0))\n",
    "    # save full_summary to csv\n",
    "    rows = []\n",
    "    for kt in kernel_types:\n",
    "        for i,acc in enumerate(full_summary[kt]['accs']):\n",
    "            rows.append({'kernel_type': kt, 'run': i+1, 'acc': float(acc)})\n",
    "    pd.DataFrame(rows).to_csv(os.path.join(OUT_DIR, 'rocket_runs_detail.csv'), index=False)\n",
    "    print(\"Results saved to\", OUT_DIR)\n",
    "else:\n",
    "    print(\"Run full experiment first.\")\n"
   ]
  },
  {
   "cell_type": "markdown",
   "id": "87a47cfe",
   "metadata": {},
   "source": [
    "# Вывод и интерпретация (шаблон)\n",
    "- Датасет: Ham (UCR). Train: `{}`. Test: `{}`.\n",
    "- Параметры эксперимента: n_kernels = `{}`, n_runs = `{}`, batch_k = `{}`.\n",
    "\n",
    "### Результаты (сводка)\n",
    "(тут будут значения из CSV)\n",
    "- Normal: среднее accuracy = `{mean_normal:.4f}` ± `{ci_normal:.4f}` (95% CI)\n",
    "- Binary: среднее accuracy = `{mean_binary:.4f}` ± `{ci_binary:.4f}`\n",
    "- Ternary: среднее accuracy = `{mean_ternary:.4f}` ± `{ci_ternary:.4f}`\n",
    "\n",
    "### Сравнения\n",
    "- Baselines:\n",
    "  - 1-NN (Euclid) = `{acc_knn:.4f}`\n",
    "  - RF on raw series = `{acc_rf:.4f}`\n",
    "  - 1-NN (DTW) = `{acc_dtw}`\n",
    "\n",
    "### Статистика\n",
    "- Парный t-test и Wilcoxon между парами:\n",
    "  - Normal vs Binary: p = `p_nb`\n",
    "  - Normal vs Ternary: p = `p_nt`\n",
    "  - Binary vs Ternary: p = `p_bt`\n",
    "\n",
    "### Интепретация (пример)\n",
    "- Если один тип ядер статистически лучше (p < 0.05) — делаем вывод о его превосходстве при данных настройках.\n",
    "- Если все ~равны — выбираем тот, который быстрее (сравнить времена).\n",
    "- Если качества хуже, чем в статье — проверить n_kernels, dilation policy, нормализацию входов и classifier hyperparams.\n"
   ]
  }
 ],
 "metadata": {
  "kernelspec": {
   "display_name": ".venv",
   "language": "python",
   "name": "python3"
  },
  "language_info": {
   "codemirror_mode": {
    "name": "ipython",
    "version": 3
   },
   "file_extension": ".py",
   "mimetype": "text/x-python",
   "name": "python",
   "nbconvert_exporter": "python",
   "pygments_lexer": "ipython3",
   "version": "3.13.3"
  }
 },
 "nbformat": 4,
 "nbformat_minor": 5
}
